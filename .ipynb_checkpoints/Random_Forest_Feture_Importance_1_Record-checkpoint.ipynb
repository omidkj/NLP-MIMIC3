{
 "cells": [
  {
   "cell_type": "code",
   "execution_count": 1,
   "metadata": {},
   "outputs": [],
   "source": [
    "import pandas as pd\n",
    "import tensorflow as tf\n",
    "import matplotlib.pyplot as plt\n",
    "import numpy as np\n",
    "%matplotlib inline"
   ]
  },
  {
   "cell_type": "code",
   "execution_count": 2,
   "metadata": {},
   "outputs": [],
   "source": [
    "Provena1 = pd.read_csv('Efficient_Provena1_1_year_New.csv')"
   ]
  },
  {
   "cell_type": "code",
   "execution_count": 3,
   "metadata": {},
   "outputs": [],
   "source": [
    "Provena2_3 = pd.read_csv('Efficient_Provena2_&_Provena3_1_year_New.csv')"
   ]
  },
  {
   "cell_type": "code",
   "execution_count": 4,
   "metadata": {},
   "outputs": [],
   "source": [
    "Baptist = pd.read_csv('Efficient_Code_Baptist_1_year_New.csv')"
   ]
  },
  {
   "cell_type": "code",
   "execution_count": 5,
   "metadata": {},
   "outputs": [],
   "source": [
    "Christus = pd.read_csv('Efficient_Code_Christus_1_year_New.csv')"
   ]
  },
  {
   "cell_type": "code",
   "execution_count": 6,
   "metadata": {},
   "outputs": [],
   "source": [
    "Norton = pd.read_csv('Efficient_Code_Norton_1_year_New.csv')"
   ]
  },
  {
   "cell_type": "code",
   "execution_count": 7,
   "metadata": {},
   "outputs": [],
   "source": [
    "Thr = pd.read_csv('Efficient_Code_Thr_1_year_New.csv')"
   ]
  },
  {
   "cell_type": "code",
   "execution_count": 8,
   "metadata": {},
   "outputs": [],
   "source": [
    "Heartland_St_Lukes = pd.read_csv('Efficient_Code_Heartland_&_St_Lukes_1_year_New.csv')"
   ]
  },
  {
   "cell_type": "code",
   "execution_count": 9,
   "metadata": {},
   "outputs": [],
   "source": [
    "Allegiance_Evergreen = pd.read_csv('Efficient_Code_Allegiance_&_Evergreen_1_year_New.csv')"
   ]
  },
  {
   "cell_type": "code",
   "execution_count": 10,
   "metadata": {},
   "outputs": [],
   "source": [
    "Memorial_Tucson = pd.read_csv('Efficient_Code_Memorial_&_Tucson_1_year_New.csv')"
   ]
  },
  {
   "cell_type": "code",
   "execution_count": 11,
   "metadata": {},
   "outputs": [],
   "source": [
    "Athens_Chomp_Fremont = pd.read_csv('Efficient_Code_Athens_Chomp_Fremont_1_year_New.csv')"
   ]
  },
  {
   "cell_type": "code",
   "execution_count": 12,
   "metadata": {},
   "outputs": [],
   "source": [
    "Chomp_Chom_n1000 = pd.read_csv('Efficient_Code_Chomp_&_Chom_n1000_New.csv')"
   ]
  },
  {
   "cell_type": "code",
   "execution_count": 13,
   "metadata": {},
   "outputs": [
    {
     "name": "stderr",
     "output_type": "stream",
     "text": [
      "/home/ubuntu/anaconda3/envs/tensorflow/lib/python3.6/site-packages/ipykernel_launcher.py:2: FutureWarning: Sorting because non-concatenation axis is not aligned. A future version\n",
      "of pandas will change to not sort by default.\n",
      "\n",
      "To accept the future behavior, pass 'sort=False'.\n",
      "\n",
      "To retain the current behavior and silence the warning, pass 'sort=True'.\n",
      "\n",
      "  \n"
     ]
    }
   ],
   "source": [
    "Data = pd.concat([Provena1, Provena2_3, Baptist, Christus, Norton, Thr, Heartland_St_Lukes, \n",
    "                  Allegiance_Evergreen, Memorial_Tucson, Athens_Chomp_Fremont, Chomp_Chom_n1000], axis = 0)"
   ]
  },
  {
   "cell_type": "code",
   "execution_count": 14,
   "metadata": {},
   "outputs": [
    {
     "data": {
      "text/plain": [
       "0    2816654\n",
       "1     249995\n",
       "Name: response, dtype: int64"
      ]
     },
     "execution_count": 14,
     "metadata": {},
     "output_type": "execute_result"
    }
   ],
   "source": [
    "Data['response'].value_counts()"
   ]
  },
  {
   "cell_type": "code",
   "execution_count": 15,
   "metadata": {},
   "outputs": [],
   "source": [
    "Data.drop('zip', axis =1, inplace = True)"
   ]
  },
  {
   "cell_type": "markdown",
   "metadata": {},
   "source": [
    "### Down Sampling"
   ]
  },
  {
   "cell_type": "code",
   "execution_count": 16,
   "metadata": {},
   "outputs": [],
   "source": [
    "Data.fillna(value = 0, inplace = True)"
   ]
  },
  {
   "cell_type": "code",
   "execution_count": 17,
   "metadata": {},
   "outputs": [],
   "source": [
    "Data.drop('Unnamed: 0', axis=1, inplace=True)"
   ]
  },
  {
   "cell_type": "code",
   "execution_count": 18,
   "metadata": {},
   "outputs": [],
   "source": [
    "col_to_norm = ['estimated_age','financial_class','education']"
   ]
  },
  {
   "cell_type": "code",
   "execution_count": 19,
   "metadata": {},
   "outputs": [],
   "source": [
    "Data[col_to_norm] = Data[col_to_norm].apply(lambda x: (x-x.min())/(x.max()-x.min()))"
   ]
  },
  {
   "cell_type": "code",
   "execution_count": 20,
   "metadata": {},
   "outputs": [
    {
     "data": {
      "text/html": [
       "<div>\n",
       "<style scoped>\n",
       "    .dataframe tbody tr th:only-of-type {\n",
       "        vertical-align: middle;\n",
       "    }\n",
       "\n",
       "    .dataframe tbody tr th {\n",
       "        vertical-align: top;\n",
       "    }\n",
       "\n",
       "    .dataframe thead th {\n",
       "        text-align: right;\n",
       "    }\n",
       "</style>\n",
       "<table border=\"1\" class=\"dataframe\">\n",
       "  <thead>\n",
       "    <tr style=\"text-align: right;\">\n",
       "      <th></th>\n",
       "      <th>Abdominal Pain</th>\n",
       "      <th>Abscess</th>\n",
       "      <th>Acute Otitis Media and Sinusitis</th>\n",
       "      <th>Acute Renal Failure</th>\n",
       "      <th>Acute Respiratory Failure</th>\n",
       "      <th>Addiction/Chemical Dependency</th>\n",
       "      <th>Addiction_Adult</th>\n",
       "      <th>Adjustment Disorders</th>\n",
       "      <th>Airway Abnormality Including Peritonsillar Abscess</th>\n",
       "      <th>Allergy</th>\n",
       "      <th>...</th>\n",
       "      <th>Vasculitis</th>\n",
       "      <th>Venous Thromboembolism</th>\n",
       "      <th>education</th>\n",
       "      <th>estimated_age</th>\n",
       "      <th>ever_diag_prediab</th>\n",
       "      <th>financial_class</th>\n",
       "      <th>person_id</th>\n",
       "      <th>race</th>\n",
       "      <th>response</th>\n",
       "      <th>sex</th>\n",
       "    </tr>\n",
       "  </thead>\n",
       "  <tbody>\n",
       "    <tr>\n",
       "      <th>0</th>\n",
       "      <td>0.0</td>\n",
       "      <td>0.0</td>\n",
       "      <td>0.0</td>\n",
       "      <td>0.0</td>\n",
       "      <td>0.0</td>\n",
       "      <td>0.0</td>\n",
       "      <td>0.0</td>\n",
       "      <td>0.0</td>\n",
       "      <td>1.0</td>\n",
       "      <td>0.0</td>\n",
       "      <td>...</td>\n",
       "      <td>0.0</td>\n",
       "      <td>0.0</td>\n",
       "      <td>0.4</td>\n",
       "      <td>0.233766</td>\n",
       "      <td>0.0</td>\n",
       "      <td>0.192113</td>\n",
       "      <td>20000001</td>\n",
       "      <td>W</td>\n",
       "      <td>0</td>\n",
       "      <td>F</td>\n",
       "    </tr>\n",
       "    <tr>\n",
       "      <th>1</th>\n",
       "      <td>1.0</td>\n",
       "      <td>0.0</td>\n",
       "      <td>0.0</td>\n",
       "      <td>0.0</td>\n",
       "      <td>0.0</td>\n",
       "      <td>0.0</td>\n",
       "      <td>0.0</td>\n",
       "      <td>0.0</td>\n",
       "      <td>0.0</td>\n",
       "      <td>0.0</td>\n",
       "      <td>...</td>\n",
       "      <td>0.0</td>\n",
       "      <td>0.0</td>\n",
       "      <td>0.2</td>\n",
       "      <td>0.225108</td>\n",
       "      <td>0.0</td>\n",
       "      <td>0.192113</td>\n",
       "      <td>20000002</td>\n",
       "      <td>B</td>\n",
       "      <td>1</td>\n",
       "      <td>F</td>\n",
       "    </tr>\n",
       "    <tr>\n",
       "      <th>2</th>\n",
       "      <td>0.0</td>\n",
       "      <td>0.0</td>\n",
       "      <td>0.0</td>\n",
       "      <td>0.0</td>\n",
       "      <td>0.0</td>\n",
       "      <td>0.0</td>\n",
       "      <td>0.0</td>\n",
       "      <td>0.0</td>\n",
       "      <td>0.0</td>\n",
       "      <td>0.0</td>\n",
       "      <td>...</td>\n",
       "      <td>0.0</td>\n",
       "      <td>0.0</td>\n",
       "      <td>0.2</td>\n",
       "      <td>0.147186</td>\n",
       "      <td>0.0</td>\n",
       "      <td>0.020222</td>\n",
       "      <td>20000005</td>\n",
       "      <td>W</td>\n",
       "      <td>1</td>\n",
       "      <td>F</td>\n",
       "    </tr>\n",
       "    <tr>\n",
       "      <th>3</th>\n",
       "      <td>0.0</td>\n",
       "      <td>0.0</td>\n",
       "      <td>0.0</td>\n",
       "      <td>0.0</td>\n",
       "      <td>0.0</td>\n",
       "      <td>0.0</td>\n",
       "      <td>0.0</td>\n",
       "      <td>0.0</td>\n",
       "      <td>0.0</td>\n",
       "      <td>0.0</td>\n",
       "      <td>...</td>\n",
       "      <td>0.0</td>\n",
       "      <td>0.0</td>\n",
       "      <td>0.0</td>\n",
       "      <td>0.190476</td>\n",
       "      <td>0.0</td>\n",
       "      <td>0.000000</td>\n",
       "      <td>20000008</td>\n",
       "      <td>W</td>\n",
       "      <td>0</td>\n",
       "      <td>F</td>\n",
       "    </tr>\n",
       "    <tr>\n",
       "      <th>4</th>\n",
       "      <td>0.0</td>\n",
       "      <td>0.0</td>\n",
       "      <td>0.0</td>\n",
       "      <td>0.0</td>\n",
       "      <td>0.0</td>\n",
       "      <td>0.0</td>\n",
       "      <td>0.0</td>\n",
       "      <td>0.0</td>\n",
       "      <td>0.0</td>\n",
       "      <td>0.0</td>\n",
       "      <td>...</td>\n",
       "      <td>0.0</td>\n",
       "      <td>0.0</td>\n",
       "      <td>0.6</td>\n",
       "      <td>0.242424</td>\n",
       "      <td>1.0</td>\n",
       "      <td>0.192113</td>\n",
       "      <td>20000009</td>\n",
       "      <td>W</td>\n",
       "      <td>1</td>\n",
       "      <td>M</td>\n",
       "    </tr>\n",
       "  </tbody>\n",
       "</table>\n",
       "<p>5 rows × 224 columns</p>\n",
       "</div>"
      ],
      "text/plain": [
       "   Abdominal Pain  Abscess  Acute Otitis Media and Sinusitis  \\\n",
       "0             0.0      0.0                               0.0   \n",
       "1             1.0      0.0                               0.0   \n",
       "2             0.0      0.0                               0.0   \n",
       "3             0.0      0.0                               0.0   \n",
       "4             0.0      0.0                               0.0   \n",
       "\n",
       "   Acute Renal Failure  Acute Respiratory Failure  \\\n",
       "0                  0.0                        0.0   \n",
       "1                  0.0                        0.0   \n",
       "2                  0.0                        0.0   \n",
       "3                  0.0                        0.0   \n",
       "4                  0.0                        0.0   \n",
       "\n",
       "   Addiction/Chemical Dependency  Addiction_Adult  Adjustment Disorders  \\\n",
       "0                            0.0              0.0                   0.0   \n",
       "1                            0.0              0.0                   0.0   \n",
       "2                            0.0              0.0                   0.0   \n",
       "3                            0.0              0.0                   0.0   \n",
       "4                            0.0              0.0                   0.0   \n",
       "\n",
       "   Airway Abnormality Including Peritonsillar Abscess  Allergy ...   \\\n",
       "0                                                1.0       0.0 ...    \n",
       "1                                                0.0       0.0 ...    \n",
       "2                                                0.0       0.0 ...    \n",
       "3                                                0.0       0.0 ...    \n",
       "4                                                0.0       0.0 ...    \n",
       "\n",
       "   Vasculitis  Venous Thromboembolism  education  estimated_age  \\\n",
       "0         0.0                     0.0        0.4       0.233766   \n",
       "1         0.0                     0.0        0.2       0.225108   \n",
       "2         0.0                     0.0        0.2       0.147186   \n",
       "3         0.0                     0.0        0.0       0.190476   \n",
       "4         0.0                     0.0        0.6       0.242424   \n",
       "\n",
       "   ever_diag_prediab  financial_class  person_id  race  response  sex  \n",
       "0                0.0         0.192113   20000001     W         0    F  \n",
       "1                0.0         0.192113   20000002     B         1    F  \n",
       "2                0.0         0.020222   20000005     W         1    F  \n",
       "3                0.0         0.000000   20000008     W         0    F  \n",
       "4                1.0         0.192113   20000009     W         1    M  \n",
       "\n",
       "[5 rows x 224 columns]"
      ]
     },
     "execution_count": 20,
     "metadata": {},
     "output_type": "execute_result"
    }
   ],
   "source": [
    "Data.head()"
   ]
  },
  {
   "cell_type": "markdown",
   "metadata": {},
   "source": [
    "#### Now we can see that all numeric columns are normalized. Now we want to make our feature columns."
   ]
  },
  {
   "cell_type": "code",
   "execution_count": 21,
   "metadata": {},
   "outputs": [],
   "source": [
    "Data = Data.drop('person_id', axis =1)"
   ]
  },
  {
   "cell_type": "code",
   "execution_count": 22,
   "metadata": {},
   "outputs": [],
   "source": [
    "col_names = Data.columns"
   ]
  },
  {
   "cell_type": "code",
   "execution_count": 23,
   "metadata": {},
   "outputs": [
    {
     "data": {
      "text/plain": [
       "Index(['Abdominal Pain', 'Abscess', 'Acute Otitis Media and Sinusitis',\n",
       "       'Acute Renal Failure', 'Acute Respiratory Failure',\n",
       "       'Addiction/Chemical Dependency', 'Addiction_Adult',\n",
       "       'Adjustment Disorders',\n",
       "       'Airway Abnormality Including Peritonsillar Abscess', 'Allergy',\n",
       "       ...\n",
       "       'Uterine Cancer', 'Vasculitis', 'Venous Thromboembolism', 'education',\n",
       "       'estimated_age', 'ever_diag_prediab', 'financial_class', 'race',\n",
       "       'response', 'sex'],\n",
       "      dtype='object', length=223)"
      ]
     },
     "execution_count": 23,
     "metadata": {},
     "output_type": "execute_result"
    }
   ],
   "source": [
    "col_names "
   ]
  },
  {
   "cell_type": "code",
   "execution_count": 24,
   "metadata": {},
   "outputs": [],
   "source": [
    "#### Names as appear in col_names are not acceptable. Therefore we change them:\n",
    "import re\n",
    "l = []\n",
    "\n",
    "for name in col_names:\n",
    "    name = '_'.join(re.findall(r\"[\\w']+\", name)) #[0].split(\"'\"))\n",
    "    l.append(name)\n",
    "\n",
    "    "
   ]
  },
  {
   "cell_type": "code",
   "execution_count": 25,
   "metadata": {},
   "outputs": [],
   "source": [
    "l2=[]\n",
    "for name in l:\n",
    "    name = ''.join([c for c in name if c not in ('!', '?', \"'\")])\n",
    "    #name = name.replace(\" \", \"_\")\n",
    "    l2.append(name)"
   ]
  },
  {
   "cell_type": "code",
   "execution_count": 26,
   "metadata": {},
   "outputs": [
    {
     "data": {
      "text/plain": [
       "['Abdominal_Pain',\n",
       " 'Abscess',\n",
       " 'Acute_Otitis_Media_and_Sinusitis',\n",
       " 'Acute_Renal_Failure',\n",
       " 'Acute_Respiratory_Failure',\n",
       " 'Addiction_Chemical_Dependency',\n",
       " 'Addiction_Adult',\n",
       " 'Adjustment_Disorders',\n",
       " 'Airway_Abnormality_Including_Peritonsillar_Abscess',\n",
       " 'Allergy',\n",
       " 'Anemia_Non_Sickle_Cell',\n",
       " 'Antepartum_Conditions_and_High_Risk_Pregnancy',\n",
       " 'Anxiety_and_Personality_Disorders',\n",
       " 'Appendicitis',\n",
       " 'Arterial_Embolism',\n",
       " 'Asthma',\n",
       " 'Asthma_Pediatric',\n",
       " 'Autism',\n",
       " 'Behavioral_Health_Conditions_Adult',\n",
       " 'Behavioral_Health_Conditions_Pediatric',\n",
       " 'Benign_Gynecologic_Neoplasms',\n",
       " 'Benign_Neoplasm',\n",
       " 'Benign_Prostatic_Hyperplasia',\n",
       " 'Benign_Skin_Neoplasms',\n",
       " 'Biliary_Disease_including_Cholecystitis',\n",
       " 'Bipolar_Disorders',\n",
       " 'Bladder_Cancer',\n",
       " 'Blunt_or_Penetrating_Injury',\n",
       " 'Bone_Cancer_and_Other_Sarcomas',\n",
       " 'Bone_Metastases',\n",
       " 'Bone_Limb_Spine_Congenital_Anomaly',\n",
       " 'Brain_CNS_Cancer',\n",
       " 'Breast_Cancer',\n",
       " 'Breast_Conditions_Non_Cancer',\n",
       " 'Bronchitis_and_Other_Upper_Respiratory_Disease',\n",
       " 'Burns',\n",
       " 'Cardiac_Anomaly',\n",
       " 'Cardiac_Disease_Adult',\n",
       " 'Carditis_and_Cardiomyopathy',\n",
       " 'Cataract',\n",
       " 'Cervical_and_Other_Female_Genital_Cancer_Including_Precancer',\n",
       " 'Chest_Pain_Noncardiac',\n",
       " 'Chronic_Kidney_Disease',\n",
       " 'Chronic_Obstructive_Pulmonary_Disease',\n",
       " 'Chronic_Otitis_Media_and_Sinusitis',\n",
       " 'Chronic_Respiratory_Failure_and_Tracheostomy',\n",
       " 'Clostridium_Difficile',\n",
       " 'Colorectal_Cancer',\n",
       " 'Complex_Cardiac_Conditions_Pediatric',\n",
       " 'Complication_of_Device_Implant_or_Graft_Cardiovascular',\n",
       " 'Complication_of_Device_Implant_or_Graft_General_Medicine_Surgery',\n",
       " 'Complication_of_Device_Implant_or_Graft_Ortho',\n",
       " 'Complications_of_Labor_Delivery_or_Postpartum_Period',\n",
       " 'Complications_of_Surgical_Procedures_or_Medical_Care',\n",
       " 'Concussion',\n",
       " 'Congenital_Anomaly_Pulmonary',\n",
       " 'Congestive_Heart_Failure',\n",
       " 'Conjunctivitis',\n",
       " 'Contraception',\n",
       " 'Coronary_Heart_Disease',\n",
       " 'Cystic_Fibrosis',\n",
       " 'Deformities_and_Curvature_of_Spine',\n",
       " 'Degenerative_Spine_and_Disc_Injury',\n",
       " 'Dementia_and_Cognitive_Disorders',\n",
       " 'Disease_of_Venous_System_Varicose_Veins_Phlebitis_Hemorrhoids',\n",
       " 'Diseases_of_the_Anus_Rectum',\n",
       " 'Disorders_of_Hemoglobin_Including_Sickle_Cell',\n",
       " 'Dizziness',\n",
       " 'Dysrhythmia_and_Cardiac_Arrest',\n",
       " 'ENT_Cleft_Lip_Anomaly',\n",
       " 'Early_Pregnancy_w_Complication_or_Abortive_Outcome',\n",
       " 'Eating_Disorders',\n",
       " 'End_Stage_Renal_Disease',\n",
       " 'Epilepsy_and_Seizure_Disorders',\n",
       " 'Esophageal_Disease_Including_GERD',\n",
       " 'Extreme_Immaturity_or_Respiratory_Distress_Syndrome_Neonate',\n",
       " 'Eye_Disease_Other',\n",
       " 'Fatigue',\n",
       " 'Fluid_Electrolyte_Disorder',\n",
       " 'Full_Term_Neonate_w_Major_Problems',\n",
       " 'Gastritis_and_Gastroduodenal_Ulcer',\n",
       " 'Gastroenteritis_and_Intestinal_Infections',\n",
       " 'Gastrointestinal_Congenital_Anomaly',\n",
       " 'Gastrointestinal_Hemorrhage',\n",
       " 'Genetic_Syndromes_Genetic_Carriers',\n",
       " 'Genitourinary_Congenital_Anomaly',\n",
       " 'Glaucoma',\n",
       " 'Gout',\n",
       " 'Gynecologic_Hormonal_Disorders',\n",
       " 'Gynecologic_Infectious_Disease',\n",
       " 'Gynecologic_Wellness_and_Screening',\n",
       " 'HIV_Infection',\n",
       " 'Head_and_Neck_Cancers',\n",
       " 'Headache_Migraine',\n",
       " 'Hearing_Loss',\n",
       " 'Heart_Valve_Disease',\n",
       " 'Hemorrhagic_Stroke',\n",
       " 'Hepatitis',\n",
       " 'Hernia',\n",
       " 'Hip_Fracture',\n",
       " 'Hodgkins_Lymphoma',\n",
       " 'Hydrocephalus_and_Spina_Bifida',\n",
       " 'Hyperlipidemia',\n",
       " 'Hypertension',\n",
       " 'Immunological_Deficiency',\n",
       " 'Inborn_Errors_of_Metabolism',\n",
       " 'Incontinence',\n",
       " 'Infertility',\n",
       " 'Inflammatory_Bowel_Disease',\n",
       " 'Inflammatory_and_Autoimmune_Diseases',\n",
       " 'Influenza',\n",
       " 'Intestinal_Obstruction_and_Diverticular_Disease',\n",
       " 'Ischemic_Stroke',\n",
       " 'Late_Effects_of_Neuro_Trauma_Neurovascular_Disease',\n",
       " 'Learning_Disorders',\n",
       " 'Leukemias',\n",
       " 'Liveborn',\n",
       " 'Liver_Cancer',\n",
       " 'Liver_Disease_Noninfective',\n",
       " 'Lung_Cancer',\n",
       " 'Melanoma',\n",
       " 'Mens_Reproductive_Health',\n",
       " 'Meningitis_and_Encephalitis',\n",
       " 'Mental_Health_Conditions',\n",
       " 'Mood_Disorders_Episodic',\n",
       " 'Mood_Disorders_Persistent',\n",
       " 'Multiple_Myelomas',\n",
       " 'Multiple_Sclerosis_and_Demyelinating_Diseases',\n",
       " 'Musculoskeletal_Injury_Hand_Wrist_Forearm',\n",
       " 'Musculoskeletal_Injury_Knee',\n",
       " 'Musculoskeletal_Injury_Lower_Leg_Foot_Ankle',\n",
       " 'Musculoskeletal_Injury_Pelvis_Hip_Femur',\n",
       " 'Musculoskeletal_Injury_Shoulder_Elbow_Upper_Arm',\n",
       " 'Myocardial_Infarction',\n",
       " 'Nausea_and_Vomiting',\n",
       " 'Neonate_w_Other_Significant_Problems',\n",
       " 'Neonates_Died_or_Transferred_to_Another_Acute_Care_Facility',\n",
       " 'Neuro_Pain_and_Neuropathy',\n",
       " 'Neurologic_Disease_Other',\n",
       " 'Neurovascular_Diseases',\n",
       " 'Non_Hodgkin_Lymphoma',\n",
       " 'Nonspecific_Back_and_Neck_Pain',\n",
       " 'Nonspecific_Clinical_and_Laboratory_Findings',\n",
       " 'Normal_Pregnancy_Delivery',\n",
       " 'Not_Otherwise_Classified_and_Other_Cancers',\n",
       " 'Nutritional_Deficiencies',\n",
       " 'Obesity',\n",
       " 'Open_or_Superficial_Wounds',\n",
       " 'Oral_Disease_Not_Otherwise_Specified',\n",
       " 'Orthopedic_Aftercare',\n",
       " 'Osteoarthritis',\n",
       " 'Other_Connective_Tissue_Disorders',\n",
       " 'Other_Diagnoses_of_Pain',\n",
       " 'Other_Ear_Disease',\n",
       " 'Other_Endocrine_Disorders',\n",
       " 'Other_GI_Cancers_Including_Stomach_and_Esophagus',\n",
       " 'Other_Gastrointestinal_Diagnosis',\n",
       " 'Other_Hematologic_Disorders',\n",
       " 'Other_Infectious_and_Parasitic_Diseases',\n",
       " 'Other_Injury_Not_Otherwise_Specified',\n",
       " 'Other_Kidney_Bladder_and_Genitourinary_Disease',\n",
       " 'Other_Musculoskeletal_Injuries_and_Conditions',\n",
       " 'Other_Postsurgical_Care_Including_Device_Prosthesis_Fitting',\n",
       " 'Other_Respiratory_Disease_Including_Pleural_Effusion_Fibrosis_Pneumothorax',\n",
       " 'Other_Skin_Cancers',\n",
       " 'Other_Therapy_and_Education',\n",
       " 'Ovarian_Cancer',\n",
       " 'Pain_Services',\n",
       " 'Pancreas_Cancer',\n",
       " 'Pancreatic_Disease',\n",
       " 'Paralysis',\n",
       " 'Parkinsons_and_Movement_Disorders',\n",
       " 'Pelvic_Floor_Disorders',\n",
       " 'Perinatal_Jaundice',\n",
       " 'Peripheral_Atherosclerosis_and_Aneurysm_and_Other_Circulatory_Disease',\n",
       " 'Peritonitis',\n",
       " 'Pneumonia_Including_Aspiration_Pneumonia',\n",
       " 'Poisonings_Commonly_Abused_Drugs',\n",
       " 'Poisonings_and_Toxic_Exposures',\n",
       " 'Prematurity_w_Major_Problems',\n",
       " 'Prematurity_w_o_Major_Problems',\n",
       " 'Primary_Care_All_Adults',\n",
       " 'Primary_Care_Geriatrics',\n",
       " 'Primary_Care_Pediatrics',\n",
       " 'Prostate_Cancer',\n",
       " 'Psychosis',\n",
       " 'Pulmonary_and_Other_Heart_Disease',\n",
       " 'Pulmonary_Disease_Adult',\n",
       " 'Rash_Non_Allergic',\n",
       " 'Renal_Cancer',\n",
       " 'Septic_Arthritis_and_Osteomyelitis',\n",
       " 'Septicemia',\n",
       " 'Sexual_Infections',\n",
       " 'Shock',\n",
       " 'Skin_Infection',\n",
       " 'Skull_Fracture_and_Major_Brain_Injury',\n",
       " 'Sleep_Apnea',\n",
       " 'Sleep_Disorders',\n",
       " 'Soft_Tissue_Ulcers_and_Gangrene',\n",
       " 'Spinal_Cord_Injury',\n",
       " 'Spinal_Fracture_or_Dislocation',\n",
       " 'Sports_Medicine',\n",
       " 'Syncope',\n",
       " 'Testicular_and_Other_Male_Genitourinary_Cancers',\n",
       " 'Thyroid_Cancer',\n",
       " 'Thyroid_Disorders',\n",
       " 'Tonsillitis',\n",
       " 'Transient_Ischemic_Attack',\n",
       " 'Trauma',\n",
       " 'Trauma_Related_Disorders',\n",
       " 'Tuberculosis',\n",
       " 'Urinary_Calculus',\n",
       " 'Urinary_Tract_Infection',\n",
       " 'Uterine_Cancer',\n",
       " 'Vasculitis',\n",
       " 'Venous_Thromboembolism',\n",
       " 'education',\n",
       " 'estimated_age',\n",
       " 'ever_diag_prediab',\n",
       " 'financial_class',\n",
       " 'race',\n",
       " 'response',\n",
       " 'sex']"
      ]
     },
     "execution_count": 26,
     "metadata": {},
     "output_type": "execute_result"
    }
   ],
   "source": [
    "# List of dummies that are generated from Sg2_care_family column + Sg2 dummies that were in the dataset.\n",
    "l2"
   ]
  },
  {
   "cell_type": "code",
   "execution_count": 27,
   "metadata": {},
   "outputs": [],
   "source": [
    "Data.columns= l2"
   ]
  },
  {
   "cell_type": "code",
   "execution_count": 28,
   "metadata": {},
   "outputs": [],
   "source": [
    "Data['Age'] = Data['estimated_age']\n",
    "Data.drop('estimated_age', axis = 1, inplace = True)"
   ]
  },
  {
   "cell_type": "code",
   "execution_count": 29,
   "metadata": {},
   "outputs": [],
   "source": [
    "Data['Prediabetes_Diagnosis'] = Data['ever_diag_prediab']\n",
    "Data.drop('ever_diag_prediab', axis = 1, inplace = True)"
   ]
  },
  {
   "cell_type": "code",
   "execution_count": 30,
   "metadata": {},
   "outputs": [],
   "source": [
    "Data['Education'] = Data['education']\n",
    "Data.drop('education', axis = 1, inplace = True)"
   ]
  },
  {
   "cell_type": "code",
   "execution_count": 31,
   "metadata": {},
   "outputs": [],
   "source": [
    "Data['Financial_Class'] = Data['financial_class']\n",
    "Data.drop('financial_class', axis = 1, inplace = True)"
   ]
  },
  {
   "cell_type": "code",
   "execution_count": 32,
   "metadata": {},
   "outputs": [],
   "source": [
    "col_names = list(Data.columns)"
   ]
  },
  {
   "cell_type": "code",
   "execution_count": 33,
   "metadata": {},
   "outputs": [],
   "source": [
    "dummies = pd.get_dummies(Data[['sex', 'race']])"
   ]
  },
  {
   "cell_type": "code",
   "execution_count": 34,
   "metadata": {},
   "outputs": [],
   "source": [
    "col_names.remove('response')"
   ]
  },
  {
   "cell_type": "code",
   "execution_count": 35,
   "metadata": {},
   "outputs": [
    {
     "data": {
      "text/plain": [
       "(3066649, 10)"
      ]
     },
     "execution_count": 35,
     "metadata": {},
     "output_type": "execute_result"
    }
   ],
   "source": [
    "dummies.shape"
   ]
  },
  {
   "cell_type": "code",
   "execution_count": 36,
   "metadata": {},
   "outputs": [],
   "source": [
    "Data = pd.concat([Data, dummies], axis=1)"
   ]
  },
  {
   "cell_type": "code",
   "execution_count": 37,
   "metadata": {},
   "outputs": [
    {
     "data": {
      "text/html": [
       "<div>\n",
       "<style scoped>\n",
       "    .dataframe tbody tr th:only-of-type {\n",
       "        vertical-align: middle;\n",
       "    }\n",
       "\n",
       "    .dataframe tbody tr th {\n",
       "        vertical-align: top;\n",
       "    }\n",
       "\n",
       "    .dataframe thead th {\n",
       "        text-align: right;\n",
       "    }\n",
       "</style>\n",
       "<table border=\"1\" class=\"dataframe\">\n",
       "  <thead>\n",
       "    <tr style=\"text-align: right;\">\n",
       "      <th></th>\n",
       "      <th>Abdominal_Pain</th>\n",
       "      <th>Abscess</th>\n",
       "      <th>Acute_Otitis_Media_and_Sinusitis</th>\n",
       "      <th>Acute_Renal_Failure</th>\n",
       "      <th>Acute_Respiratory_Failure</th>\n",
       "      <th>Addiction_Chemical_Dependency</th>\n",
       "      <th>Addiction_Adult</th>\n",
       "      <th>Adjustment_Disorders</th>\n",
       "      <th>Airway_Abnormality_Including_Peritonsillar_Abscess</th>\n",
       "      <th>Allergy</th>\n",
       "      <th>...</th>\n",
       "      <th>sex_F</th>\n",
       "      <th>sex_M</th>\n",
       "      <th>sex_U</th>\n",
       "      <th>race_A</th>\n",
       "      <th>race_B</th>\n",
       "      <th>race_H</th>\n",
       "      <th>race_O</th>\n",
       "      <th>race_U</th>\n",
       "      <th>race_W</th>\n",
       "      <th>race_w</th>\n",
       "    </tr>\n",
       "  </thead>\n",
       "  <tbody>\n",
       "    <tr>\n",
       "      <th>0</th>\n",
       "      <td>0.0</td>\n",
       "      <td>0.0</td>\n",
       "      <td>0.0</td>\n",
       "      <td>0.0</td>\n",
       "      <td>0.0</td>\n",
       "      <td>0.0</td>\n",
       "      <td>0.0</td>\n",
       "      <td>0.0</td>\n",
       "      <td>1.0</td>\n",
       "      <td>0.0</td>\n",
       "      <td>...</td>\n",
       "      <td>1</td>\n",
       "      <td>0</td>\n",
       "      <td>0</td>\n",
       "      <td>0</td>\n",
       "      <td>0</td>\n",
       "      <td>0</td>\n",
       "      <td>0</td>\n",
       "      <td>0</td>\n",
       "      <td>1</td>\n",
       "      <td>0</td>\n",
       "    </tr>\n",
       "    <tr>\n",
       "      <th>1</th>\n",
       "      <td>1.0</td>\n",
       "      <td>0.0</td>\n",
       "      <td>0.0</td>\n",
       "      <td>0.0</td>\n",
       "      <td>0.0</td>\n",
       "      <td>0.0</td>\n",
       "      <td>0.0</td>\n",
       "      <td>0.0</td>\n",
       "      <td>0.0</td>\n",
       "      <td>0.0</td>\n",
       "      <td>...</td>\n",
       "      <td>1</td>\n",
       "      <td>0</td>\n",
       "      <td>0</td>\n",
       "      <td>0</td>\n",
       "      <td>1</td>\n",
       "      <td>0</td>\n",
       "      <td>0</td>\n",
       "      <td>0</td>\n",
       "      <td>0</td>\n",
       "      <td>0</td>\n",
       "    </tr>\n",
       "    <tr>\n",
       "      <th>2</th>\n",
       "      <td>0.0</td>\n",
       "      <td>0.0</td>\n",
       "      <td>0.0</td>\n",
       "      <td>0.0</td>\n",
       "      <td>0.0</td>\n",
       "      <td>0.0</td>\n",
       "      <td>0.0</td>\n",
       "      <td>0.0</td>\n",
       "      <td>0.0</td>\n",
       "      <td>0.0</td>\n",
       "      <td>...</td>\n",
       "      <td>1</td>\n",
       "      <td>0</td>\n",
       "      <td>0</td>\n",
       "      <td>0</td>\n",
       "      <td>0</td>\n",
       "      <td>0</td>\n",
       "      <td>0</td>\n",
       "      <td>0</td>\n",
       "      <td>1</td>\n",
       "      <td>0</td>\n",
       "    </tr>\n",
       "    <tr>\n",
       "      <th>3</th>\n",
       "      <td>0.0</td>\n",
       "      <td>0.0</td>\n",
       "      <td>0.0</td>\n",
       "      <td>0.0</td>\n",
       "      <td>0.0</td>\n",
       "      <td>0.0</td>\n",
       "      <td>0.0</td>\n",
       "      <td>0.0</td>\n",
       "      <td>0.0</td>\n",
       "      <td>0.0</td>\n",
       "      <td>...</td>\n",
       "      <td>1</td>\n",
       "      <td>0</td>\n",
       "      <td>0</td>\n",
       "      <td>0</td>\n",
       "      <td>0</td>\n",
       "      <td>0</td>\n",
       "      <td>0</td>\n",
       "      <td>0</td>\n",
       "      <td>1</td>\n",
       "      <td>0</td>\n",
       "    </tr>\n",
       "    <tr>\n",
       "      <th>4</th>\n",
       "      <td>0.0</td>\n",
       "      <td>0.0</td>\n",
       "      <td>0.0</td>\n",
       "      <td>0.0</td>\n",
       "      <td>0.0</td>\n",
       "      <td>0.0</td>\n",
       "      <td>0.0</td>\n",
       "      <td>0.0</td>\n",
       "      <td>0.0</td>\n",
       "      <td>0.0</td>\n",
       "      <td>...</td>\n",
       "      <td>0</td>\n",
       "      <td>1</td>\n",
       "      <td>0</td>\n",
       "      <td>0</td>\n",
       "      <td>0</td>\n",
       "      <td>0</td>\n",
       "      <td>0</td>\n",
       "      <td>0</td>\n",
       "      <td>1</td>\n",
       "      <td>0</td>\n",
       "    </tr>\n",
       "  </tbody>\n",
       "</table>\n",
       "<p>5 rows × 233 columns</p>\n",
       "</div>"
      ],
      "text/plain": [
       "   Abdominal_Pain  Abscess  Acute_Otitis_Media_and_Sinusitis  \\\n",
       "0             0.0      0.0                               0.0   \n",
       "1             1.0      0.0                               0.0   \n",
       "2             0.0      0.0                               0.0   \n",
       "3             0.0      0.0                               0.0   \n",
       "4             0.0      0.0                               0.0   \n",
       "\n",
       "   Acute_Renal_Failure  Acute_Respiratory_Failure  \\\n",
       "0                  0.0                        0.0   \n",
       "1                  0.0                        0.0   \n",
       "2                  0.0                        0.0   \n",
       "3                  0.0                        0.0   \n",
       "4                  0.0                        0.0   \n",
       "\n",
       "   Addiction_Chemical_Dependency  Addiction_Adult  Adjustment_Disorders  \\\n",
       "0                            0.0              0.0                   0.0   \n",
       "1                            0.0              0.0                   0.0   \n",
       "2                            0.0              0.0                   0.0   \n",
       "3                            0.0              0.0                   0.0   \n",
       "4                            0.0              0.0                   0.0   \n",
       "\n",
       "   Airway_Abnormality_Including_Peritonsillar_Abscess  Allergy   ...    sex_F  \\\n",
       "0                                                1.0       0.0   ...        1   \n",
       "1                                                0.0       0.0   ...        1   \n",
       "2                                                0.0       0.0   ...        1   \n",
       "3                                                0.0       0.0   ...        1   \n",
       "4                                                0.0       0.0   ...        0   \n",
       "\n",
       "   sex_M  sex_U  race_A  race_B  race_H  race_O  race_U  race_W  race_w  \n",
       "0      0      0       0       0       0       0       0       1       0  \n",
       "1      0      0       0       1       0       0       0       0       0  \n",
       "2      0      0       0       0       0       0       0       1       0  \n",
       "3      0      0       0       0       0       0       0       1       0  \n",
       "4      1      0       0       0       0       0       0       1       0  \n",
       "\n",
       "[5 rows x 233 columns]"
      ]
     },
     "execution_count": 37,
     "metadata": {},
     "output_type": "execute_result"
    }
   ],
   "source": [
    "Data.head()"
   ]
  },
  {
   "cell_type": "code",
   "execution_count": 38,
   "metadata": {},
   "outputs": [],
   "source": [
    "Data.drop(['sex','race'], axis= 1, inplace = True)"
   ]
  },
  {
   "cell_type": "code",
   "execution_count": 39,
   "metadata": {},
   "outputs": [],
   "source": [
    "Data.drop( 'race_U', axis = 1, inplace=True)"
   ]
  },
  {
   "cell_type": "code",
   "execution_count": 40,
   "metadata": {},
   "outputs": [],
   "source": [
    "col_names = Data.columns\n",
    "col_names\n",
    "col_names = list(col_names)\n",
    "col_names.remove('response')"
   ]
  },
  {
   "cell_type": "code",
   "execution_count": 41,
   "metadata": {},
   "outputs": [
    {
     "data": {
      "text/plain": [
       "229"
      ]
     },
     "execution_count": 41,
     "metadata": {},
     "output_type": "execute_result"
    }
   ],
   "source": [
    "len(col_names)"
   ]
  },
  {
   "cell_type": "markdown",
   "metadata": {},
   "source": [
    "#### Train Test Split:"
   ]
  },
  {
   "cell_type": "code",
   "execution_count": 42,
   "metadata": {},
   "outputs": [],
   "source": [
    "X_data = Data.drop('response', axis = 1)"
   ]
  },
  {
   "cell_type": "code",
   "execution_count": 43,
   "metadata": {},
   "outputs": [],
   "source": [
    "lables = Data['response']"
   ]
  },
  {
   "cell_type": "code",
   "execution_count": 44,
   "metadata": {},
   "outputs": [],
   "source": [
    "from sklearn.model_selection import train_test_split"
   ]
  },
  {
   "cell_type": "code",
   "execution_count": 45,
   "metadata": {},
   "outputs": [],
   "source": [
    "trX, teX, trY, teY = train_test_split(X_data, lables, test_size=0.3, random_state=42)\n"
   ]
  },
  {
   "cell_type": "code",
   "execution_count": 46,
   "metadata": {},
   "outputs": [],
   "source": [
    "from sklearn.metrics import confusion_matrix\n",
    "from sklearn import metrics"
   ]
  },
  {
   "cell_type": "markdown",
   "metadata": {
    "collapsed": true
   },
   "source": [
    "#### Gaussian Naive Bayse Classifier on Output"
   ]
  },
  {
   "cell_type": "code",
   "execution_count": 47,
   "metadata": {},
   "outputs": [],
   "source": [
    "from sklearn.naive_bayes import GaussianNB"
   ]
  },
  {
   "cell_type": "code",
   "execution_count": 48,
   "metadata": {},
   "outputs": [],
   "source": [
    "gnb = GaussianNB()"
   ]
  },
  {
   "cell_type": "code",
   "execution_count": 49,
   "metadata": {},
   "outputs": [],
   "source": [
    "prY = gnb.fit(trX, trY).predict(teX)\n"
   ]
  },
  {
   "cell_type": "code",
   "execution_count": 50,
   "metadata": {},
   "outputs": [],
   "source": [
    "prY_prob = gnb.fit(trX, trY).predict_proba(teX)"
   ]
  },
  {
   "cell_type": "code",
   "execution_count": 51,
   "metadata": {},
   "outputs": [
    {
     "data": {
      "text/plain": [
       "array([[140403, 705072],\n",
       "       [  4439,  70081]])"
      ]
     },
     "execution_count": 51,
     "metadata": {},
     "output_type": "execute_result"
    }
   ],
   "source": [
    "confusion_matrix(teY, prY)"
   ]
  },
  {
   "cell_type": "code",
   "execution_count": 52,
   "metadata": {},
   "outputs": [],
   "source": [
    "fpr, tpr, _ = metrics.roc_curve(np.array(teY), prY_prob[:,1])"
   ]
  },
  {
   "cell_type": "code",
   "execution_count": 53,
   "metadata": {},
   "outputs": [
    {
     "data": {
      "text/plain": [
       "0.6811179116885338"
      ]
     },
     "execution_count": 53,
     "metadata": {},
     "output_type": "execute_result"
    }
   ],
   "source": [
    "auc = metrics.auc(fpr,tpr)\n",
    "auc"
   ]
  },
  {
   "cell_type": "code",
   "execution_count": 54,
   "metadata": {},
   "outputs": [
    {
     "data": {
      "text/plain": [
       "[<matplotlib.lines.Line2D at 0x7f55b68b29e8>]"
      ]
     },
     "execution_count": 54,
     "metadata": {},
     "output_type": "execute_result"
    },
    {
     "data": {
      "image/png": "[encoded data removed]",
      "text/plain": [
       "<Figure size 432x288 with 1 Axes>"
      ]
     },
     "metadata": {},
     "output_type": "display_data"
    }
   ],
   "source": [
    "plt.plot(fpr, tpr)"
   ]
  },
  {
   "cell_type": "code",
   "execution_count": 55,
   "metadata": {},
   "outputs": [],
   "source": [
    "### Random Forest Classifier:"
   ]
  },
  {
   "cell_type": "code",
   "execution_count": 56,
   "metadata": {},
   "outputs": [],
   "source": [
    "from sklearn.ensemble import RandomForestClassifier"
   ]
  },
  {
   "cell_type": "code",
   "execution_count": 57,
   "metadata": {},
   "outputs": [],
   "source": [
    "rfc= RandomForestClassifier(random_state=0)"
   ]
  },
  {
   "cell_type": "code",
   "execution_count": 58,
   "metadata": {},
   "outputs": [],
   "source": [
    "prY = rfc.fit(trX, trY).predict(teX)\n"
   ]
  },
  {
   "cell_type": "code",
   "execution_count": 59,
   "metadata": {},
   "outputs": [],
   "source": [
    "prY_prob = rfc.fit(trX, trY).predict_proba(teX)"
   ]
  },
  {
   "cell_type": "code",
   "execution_count": 60,
   "metadata": {},
   "outputs": [
    {
     "data": {
      "text/plain": [
       "array([[831259,  14216],\n",
       "       [ 61425,  13095]])"
      ]
     },
     "execution_count": 60,
     "metadata": {},
     "output_type": "execute_result"
    }
   ],
   "source": [
    "confusion_matrix(teY, prY)"
   ]
  },
  {
   "cell_type": "code",
   "execution_count": 61,
   "metadata": {},
   "outputs": [],
   "source": [
    "fpr, tpr, _ = metrics.roc_curve(np.array(teY), prY_prob[:,1])"
   ]
  },
  {
   "cell_type": "code",
   "execution_count": 75,
   "metadata": {},
   "outputs": [
    {
     "data": {
      "text/plain": [
       "0.6887888637431845"
      ]
     },
     "execution_count": 75,
     "metadata": {},
     "output_type": "execute_result"
    }
   ],
   "source": [
    "auc = metrics.auc(fpr,tpr)\n",
    "auc"
   ]
  },
  {
   "cell_type": "code",
   "execution_count": 63,
   "metadata": {},
   "outputs": [
    {
     "data": {
      "text/plain": [
       "[<matplotlib.lines.Line2D at 0x7f55b40b1208>]"
      ]
     },
     "execution_count": 63,
     "metadata": {},
     "output_type": "execute_result"
    },
    {
     "data": {
      "image/png": "[encoded data removed]",
      "text/plain": [
       "<Figure size 432x288 with 1 Axes>"
      ]
     },
     "metadata": {},
     "output_type": "display_data"
    }
   ],
   "source": [
    "plt.plot(fpr, tpr)"
   ]
  },
  {
   "cell_type": "code",
   "execution_count": 64,
   "metadata": {},
   "outputs": [],
   "source": [
    "feature_importances = pd.DataFrame(rfc.feature_importances_,\n",
    "                                   index = trX.columns,\n",
    "                                    columns=['importance']).sort_values('importance', ascending=False)"
   ]
  },
  {
   "cell_type": "code",
   "execution_count": 65,
   "metadata": {},
   "outputs": [],
   "source": [
    "feature_importances.reset_index(inplace = True)"
   ]
  },
  {
   "cell_type": "code",
   "execution_count": 66,
   "metadata": {},
   "outputs": [],
   "source": [
    "feature_importances = feature_importances[0:13]"
   ]
  },
  {
   "cell_type": "code",
   "execution_count": 67,
   "metadata": {},
   "outputs": [
    {
     "data": {
      "text/html": [
       "<div>\n",
       "<style scoped>\n",
       "    .dataframe tbody tr th:only-of-type {\n",
       "        vertical-align: middle;\n",
       "    }\n",
       "\n",
       "    .dataframe tbody tr th {\n",
       "        vertical-align: top;\n",
       "    }\n",
       "\n",
       "    .dataframe thead th {\n",
       "        text-align: right;\n",
       "    }\n",
       "</style>\n",
       "<table border=\"1\" class=\"dataframe\">\n",
       "  <thead>\n",
       "    <tr style=\"text-align: right;\">\n",
       "      <th></th>\n",
       "      <th>index</th>\n",
       "      <th>importance</th>\n",
       "    </tr>\n",
       "  </thead>\n",
       "  <tbody>\n",
       "    <tr>\n",
       "      <th>0</th>\n",
       "      <td>Age</td>\n",
       "      <td>0.227461</td>\n",
       "    </tr>\n",
       "    <tr>\n",
       "      <th>1</th>\n",
       "      <td>Prediabetes_Diagnosis</td>\n",
       "      <td>0.127951</td>\n",
       "    </tr>\n",
       "    <tr>\n",
       "      <th>2</th>\n",
       "      <td>Financial_Class</td>\n",
       "      <td>0.067799</td>\n",
       "    </tr>\n",
       "    <tr>\n",
       "      <th>3</th>\n",
       "      <td>Education</td>\n",
       "      <td>0.051786</td>\n",
       "    </tr>\n",
       "    <tr>\n",
       "      <th>4</th>\n",
       "      <td>Nonspecific_Back_and_Neck_Pain</td>\n",
       "      <td>0.010156</td>\n",
       "    </tr>\n",
       "    <tr>\n",
       "      <th>5</th>\n",
       "      <td>Pulmonary_Disease_Adult</td>\n",
       "      <td>0.009797</td>\n",
       "    </tr>\n",
       "    <tr>\n",
       "      <th>6</th>\n",
       "      <td>Abdominal_Pain</td>\n",
       "      <td>0.009158</td>\n",
       "    </tr>\n",
       "    <tr>\n",
       "      <th>7</th>\n",
       "      <td>Other_Respiratory_Disease_Including_Pleural_Ef...</td>\n",
       "      <td>0.009089</td>\n",
       "    </tr>\n",
       "    <tr>\n",
       "      <th>8</th>\n",
       "      <td>Chest_Pain_Noncardiac</td>\n",
       "      <td>0.009009</td>\n",
       "    </tr>\n",
       "    <tr>\n",
       "      <th>9</th>\n",
       "      <td>Primary_Care_Geriatrics</td>\n",
       "      <td>0.007628</td>\n",
       "    </tr>\n",
       "    <tr>\n",
       "      <th>10</th>\n",
       "      <td>Sports_Medicine</td>\n",
       "      <td>0.007360</td>\n",
       "    </tr>\n",
       "    <tr>\n",
       "      <th>11</th>\n",
       "      <td>Bronchitis_and_Other_Upper_Respiratory_Disease</td>\n",
       "      <td>0.007310</td>\n",
       "    </tr>\n",
       "    <tr>\n",
       "      <th>12</th>\n",
       "      <td>Hypertension</td>\n",
       "      <td>0.007215</td>\n",
       "    </tr>\n",
       "  </tbody>\n",
       "</table>\n",
       "</div>"
      ],
      "text/plain": [
       "                                                index  importance\n",
       "0                                                 Age    0.227461\n",
       "1                               Prediabetes_Diagnosis    0.127951\n",
       "2                                     Financial_Class    0.067799\n",
       "3                                           Education    0.051786\n",
       "4                      Nonspecific_Back_and_Neck_Pain    0.010156\n",
       "5                             Pulmonary_Disease_Adult    0.009797\n",
       "6                                      Abdominal_Pain    0.009158\n",
       "7   Other_Respiratory_Disease_Including_Pleural_Ef...    0.009089\n",
       "8                               Chest_Pain_Noncardiac    0.009009\n",
       "9                             Primary_Care_Geriatrics    0.007628\n",
       "10                                    Sports_Medicine    0.007360\n",
       "11     Bronchitis_and_Other_Upper_Respiratory_Disease    0.007310\n",
       "12                                       Hypertension    0.007215"
      ]
     },
     "execution_count": 67,
     "metadata": {},
     "output_type": "execute_result"
    }
   ],
   "source": [
    "feature_importances"
   ]
  },
  {
   "cell_type": "code",
   "execution_count": 73,
   "metadata": {},
   "outputs": [
    {
     "data": {
      "text/plain": [
       "<function matplotlib.pyplot.tight_layout(pad=1.08, h_pad=None, w_pad=None, rect=None)>"
      ]
     },
     "execution_count": 73,
     "metadata": {},
     "output_type": "execute_result"
    },
    {
     "data": {
      "image/png": "[encoded data removed]",
      "text/plain": [
       "<Figure size 432x576 with 1 Axes>"
      ]
     },
     "metadata": {},
     "output_type": "display_data"
    }
   ],
   "source": [
    "#from pyplot import *\n",
    "\n",
    "fig, axes = plt.subplots(nrows = 1, ncols = 1, figsize = (6,8), sharex=True, sharey=True)\n",
    "axes.barh(feature_importances['index'],feature_importances['importance'],  align = 'center', color = \"orange\")\n",
    "axes.set_title(\"Important Predictors of Diabetes\", fontsize = 16)\n",
    "axes.invert_yaxis()\n",
    "plt.tight_layout"
   ]
  },
  {
   "cell_type": "code",
   "execution_count": 74,
   "metadata": {},
   "outputs": [],
   "source": [
    "fig.savefig('Importance.png', bbox_inches = 'tight')"
   ]
  },
  {
   "cell_type": "code",
   "execution_count": null,
   "metadata": {},
   "outputs": [],
   "source": []
  },
  {
   "cell_type": "code",
   "execution_count": null,
   "metadata": {},
   "outputs": [],
   "source": []
  }
 ],
 "metadata": {
  "kernelspec": {
   "display_name": "Python 3",
   "language": "python",
   "name": "python3"
  },
  "language_info": {
   "codemirror_mode": {
    "name": "ipython",
    "version": 3
   },
   "file_extension": ".py",
   "mimetype": "text/x-python",
   "name": "python",
   "nbconvert_exporter": "python",
   "pygments_lexer": "ipython3",
   "version": "3.6.7"
  }
 },
 "nbformat": 4,
 "nbformat_minor": 2
}
